{
 "cells": [
  {
   "cell_type": "markdown",
   "id": "6f0c5b9a",
   "metadata": {},
   "source": [
    "##Collaborative filtering"
   ]
  },
  {
   "cell_type": "code",
   "execution_count": 1,
   "id": "4e783190",
   "metadata": {},
   "outputs": [],
   "source": [
    "import pandas as pd\n",
    "from surprise import Dataset\n",
    "from surprise import Reader\n",
    "from surprise import SVD\n",
    "from surprise.model_selection import train_test_split\n",
    "from sklearn.metrics import confusion_matrix, accuracy_score, precision_score, recall_score, f1_score"
   ]
  },
  {
   "cell_type": "code",
   "execution_count": 2,
   "id": "f972aab7",
   "metadata": {},
   "outputs": [],
   "source": [
    "# Define file paths for the data\n",
    "ratings_path = \"Ratings.csv\""
   ]
  },
  {
   "cell_type": "code",
   "execution_count": 3,
   "id": "bb307465",
   "metadata": {},
   "outputs": [],
   "source": [
    "# Load the ratings data into a DataFrame\n",
    "ratings_df = pd.read_csv(ratings_path)\n",
    "\n",
    "# Initialize the reader\n",
    "reader = Reader(rating_scale=(1, 5))\n",
    "\n",
    "# Load the dataset\n",
    "data = Dataset.load_from_df(ratings_df[['user_id', 'book_id', 'rating']], reader)\n",
    "\n",
    "# Split the dataset into training and testing sets\n",
    "trainset, testset = train_test_split(data, test_size=0.2, random_state=42)\n",
    "\n",
    "# Train the model using Singular Value Decomposition (SVD)\n",
    "model = SVD()\n",
    "model.fit(trainset)\n",
    "\n",
    "# Make predictions on the testing set\n",
    "predictions = model.test(testset)\n",
    "\n",
    "# Compute the evaluation metrics\n",
    "ground_truth = [pred.r_ui for pred in predictions]  # actual ratings\n",
    "predicted_ratings = [pred.est for pred in predictions]  # predicted ratings\n",
    "\n",
    "# Convert the ratings to binary classes\n",
    "ground_truth_classes = [int(r >= 3) for r in ground_truth]\n",
    "predicted_classes = [int(pred >= 3) for pred in predicted_ratings]"
   ]
  },
  {
   "cell_type": "code",
   "execution_count": 4,
   "id": "a5a0e03b",
   "metadata": {},
   "outputs": [
    {
     "name": "stdout",
     "output_type": "stream",
     "text": [
      "Confusion Matrix:\n",
      "[[  3523  12915]\n",
      " [  6007 173907]]\n"
     ]
    }
   ],
   "source": [
    "# Compute the confusion matrix\n",
    "cm = confusion_matrix(ground_truth_classes, predicted_classes)\n",
    "\n",
    "print(f\"Confusion Matrix:\\n{cm}\")"
   ]
  },
  {
   "cell_type": "code",
   "execution_count": 5,
   "id": "ae62d0f7",
   "metadata": {},
   "outputs": [
    {
     "name": "stdout",
     "output_type": "stream",
     "text": [
      "Precision: 0.93\n",
      "Recall: 0.97\n",
      "F1-score: 0.95\n"
     ]
    }
   ],
   "source": [
    "# Compute evaluation metrics\n",
    "precision = precision_score(ground_truth_classes, predicted_classes)\n",
    "recall = recall_score(ground_truth_classes, predicted_classes)\n",
    "f1 = f1_score(ground_truth_classes, predicted_classes)\n",
    "\n",
    "# Print the evaluation metrics\n",
    "print(f\"Precision: {precision:.2f}\")\n",
    "print(f\"Recall: {recall:.2f}\")\n",
    "print(f\"F1-score: {f1:.2f}\")"
   ]
  },
  {
   "cell_type": "code",
   "execution_count": null,
   "id": "7b1f2ec0",
   "metadata": {},
   "outputs": [],
   "source": []
  }
 ],
 "metadata": {
  "kernelspec": {
   "display_name": "Python 3 (ipykernel)",
   "language": "python",
   "name": "python3"
  },
  "language_info": {
   "codemirror_mode": {
    "name": "ipython",
    "version": 3
   },
   "file_extension": ".py",
   "mimetype": "text/x-python",
   "name": "python",
   "nbconvert_exporter": "python",
   "pygments_lexer": "ipython3",
   "version": "3.10.9"
  }
 },
 "nbformat": 4,
 "nbformat_minor": 5
}
